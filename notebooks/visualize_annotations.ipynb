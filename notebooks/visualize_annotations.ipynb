{
 "cells": [
  {
   "cell_type": "markdown",
   "metadata": {},
   "source": [
    "# くずし字アノテーションの可視化\n",
    "\n",
    "このノートブックでは、以下の可視化を行います：\n",
    "1. 元の画像と文字のバウンディングボックス\n",
    "2. 検出された行の領域\n",
    "3. 切り出された行画像と文字のバウンディングボックス"
   ]
  },
  {
   "cell_type": "code",
   "execution_count": 1,
   "metadata": {},
   "outputs": [],
   "source": [
    "import pandas as pd\n",
    "import matplotlib.pyplot as plt\n",
    "from pathlib import Path\n",
    "from PIL import Image, ImageDraw, ImageFont"
   ]
  },
  {
   "cell_type": "code",
   "execution_count": 2,
   "metadata": {},
   "outputs": [],
   "source": [
    "def draw_boxes_on_image(image_path: str, coord_file: str, show_unicode: bool = True):\n",
    "    \"\"\"画像に文字のバウンディングボックスを描画\n",
    "\n",
    "    Args:\n",
    "        image_path (str): 画像ファイルのパス\n",
    "        coord_file (str): 座標ファイルのパス\n",
    "        show_unicode (bool, optional): Unicode文字を表示するかどうか. Defaults to True.\n",
    "    \"\"\"\n",
    "    # 画像の読み込み\n",
    "    image = Image.open(image_path)\n",
    "    draw = ImageDraw.Draw(image)\n",
    "\n",
    "    # 座標データの読み込み\n",
    "    df = pd.read_csv(coord_file)\n",
    "\n",
    "    # フォントの設定（Unicodeを表示する場合）\n",
    "    if show_unicode:\n",
    "        try:\n",
    "            font = ImageFont.truetype(\"/usr/share/fonts/truetype/fonts-japanese-gothic.ttf\", 20)\n",
    "        except Exception:\n",
    "            font = ImageFont.load_default()\n",
    "\n",
    "    # バウンディングボックスの描画\n",
    "    print(image_path)\n",
    "    for _, row in df.iterrows():\n",
    "        if image_path.split(\"/\")[-1].split(\".\")[0] == row[\"Image\"]:\n",
    "            x1, y1 = row[\"X\"], row[\"Y\"]\n",
    "            x2, y2 = x1 + row[\"Width\"], y1 + row[\"Height\"]\n",
    "\n",
    "            # ボックスの描画\n",
    "            draw.rectangle([x1, y1, x2, y2], outline=\"red\", width=2)\n",
    "\n",
    "            # Unicode文字の描画\n",
    "            if show_unicode:\n",
    "                draw.text((x1, y1 - 20), chr(int(row[\"Unicode\"], 16)), font=font, fill=\"blue\")\n",
    "\n",
    "    # 画像の表示\n",
    "    plt.figure(figsize=(20, 20))\n",
    "    plt.imshow(image)\n",
    "    plt.axis(\"off\")\n",
    "    plt.show()"
   ]
  },
  {
   "cell_type": "code",
   "execution_count": 3,
   "metadata": {},
   "outputs": [],
   "source": [
    "def draw_detected_lines(image_path: str, line_info_file: str):\n",
    "    \"\"\"検出された行の領域を可視化\n",
    "\n",
    "    Args:\n",
    "        image_path (str): 画像ファイルのパス\n",
    "        line_info_file (str): 行情報のCSVファイルのパス\n",
    "    \"\"\"\n",
    "    # 画像の読み込み\n",
    "    image = Image.open(image_path)\n",
    "    draw = ImageDraw.Draw(image)\n",
    "\n",
    "    # 行情報の読み込み\n",
    "    df = pd.read_csv(line_info_file)\n",
    "\n",
    "    # この画像に関連する行情報のみを抽出\n",
    "    image_lines = df[df[\"original_image\"] == image_path]\n",
    "\n",
    "    # 行の領域を描画\n",
    "    colors = [\"red\", \"blue\", \"green\", \"yellow\", \"purple\"]  # 行ごとに異なる色を使用\n",
    "    for i, row in image_lines.iterrows():\n",
    "        box = eval(row[\"box\"])\n",
    "        color = colors[i % len(colors)]\n",
    "        draw.rectangle(box, outline=color, width=3)\n",
    "\n",
    "    # 画像の表示\n",
    "    plt.figure(figsize=(20, 20))\n",
    "    plt.imshow(image)\n",
    "    plt.axis(\"off\")\n",
    "    plt.show()"
   ]
  },
  {
   "cell_type": "code",
   "execution_count": 4,
   "metadata": {},
   "outputs": [],
   "source": [
    "def visualize_line_images(line_info_file: str, show_unicode: bool = False):\n",
    "    \"\"\"切り出された行画像と文字のバウンディングボックスを可視化\n",
    "\n",
    "    Args:\n",
    "        line_info_file (str): 行情報のCSVファイルのパス\n",
    "        show_unicode (bool, optional): Unicode文字を表示するかどうか. Defaults to True.\n",
    "    \"\"\"\n",
    "    # 行情報の読み込み\n",
    "    df = pd.read_csv(line_info_file)\n",
    "\n",
    "    # フォントの設定\n",
    "    if show_unicode:\n",
    "        try:\n",
    "            font = ImageFont.truetype(\"/usr/share/fonts/truetype/fonts-japanese-gothic.ttf\", 20)\n",
    "        except Exception:\n",
    "            font = ImageFont.load_default()\n",
    "\n",
    "    # 各行画像の処理\n",
    "    for i, row in df.iterrows():\n",
    "        # 行画像の読み込み\n",
    "        line_image = Image.open(row[\"line_image\"])\n",
    "        draw = ImageDraw.Draw(line_image)\n",
    "\n",
    "        # 文字のバウンディングボックスを描画\n",
    "        char_boxes = eval(row[\"char_boxes\"])\n",
    "        unicode_ids = eval(row[\"unicode_ids\"])\n",
    "\n",
    "        for box, unicode_id in zip(char_boxes, unicode_ids):\n",
    "            x1, y1, x2, y2 = box\n",
    "            draw.rectangle([x1, y1, x2, y2], outline=\"red\", width=2)\n",
    "\n",
    "            if show_unicode:\n",
    "                draw.text((x1, y1 - 20), chr(int(unicode_id, 16)), font=font, fill=\"blue\")\n",
    "\n",
    "        # 画像の表示\n",
    "        plt.figure(figsize=(20, 5))\n",
    "        plt.imshow(line_image)\n",
    "        plt.title(f\"Line {i + 1}\")\n",
    "        plt.axis(\"off\")\n",
    "        plt.show()"
   ]
  },
  {
   "cell_type": "markdown",
   "metadata": {},
   "source": [
    "## 1. サンプル画像の可視化"
   ]
  },
  {
   "cell_type": "code",
   "execution_count": 5,
   "metadata": {},
   "outputs": [
    {
     "name": "stdout",
     "output_type": "stream",
     "text": [
      "Original image with character bounding boxes:\n",
      "../data/raw/dataset/100249476/images/100249476_00022_2.jpg\n"
     ]
    },
    {
     "ename": "ValueError",
     "evalue": "invalid literal for int() with base 16: 'U+306A'",
     "output_type": "error",
     "traceback": [
      "\u001b[0;31m---------------------------------------------------------------------------\u001b[0m",
      "\u001b[0;31mValueError\u001b[0m                                Traceback (most recent call last)",
      "Cell \u001b[0;32mIn[5], line 12\u001b[0m\n\u001b[1;32m     10\u001b[0m \u001b[38;5;66;03m# 元の画像と文字のバウンディングボックスを表示\u001b[39;00m\n\u001b[1;32m     11\u001b[0m \u001b[38;5;28mprint\u001b[39m(\u001b[38;5;124m\"\u001b[39m\u001b[38;5;124mOriginal image with character bounding boxes:\u001b[39m\u001b[38;5;124m\"\u001b[39m)\n\u001b[0;32m---> 12\u001b[0m \u001b[43mdraw_boxes_on_image\u001b[49m\u001b[43m(\u001b[49m\u001b[38;5;28;43mstr\u001b[39;49m\u001b[43m(\u001b[49m\u001b[43msample_image\u001b[49m\u001b[43m)\u001b[49m\u001b[43m,\u001b[49m\u001b[43m \u001b[49m\u001b[38;5;28;43mstr\u001b[39;49m\u001b[43m(\u001b[49m\u001b[43mcoord_file\u001b[49m\u001b[43m)\u001b[49m\u001b[43m)\u001b[49m\n",
      "Cell \u001b[0;32mIn[2], line 35\u001b[0m, in \u001b[0;36mdraw_boxes_on_image\u001b[0;34m(image_path, coord_file, show_unicode)\u001b[0m\n\u001b[1;32m     33\u001b[0m         \u001b[38;5;66;03m# Unicode文字の描画\u001b[39;00m\n\u001b[1;32m     34\u001b[0m         \u001b[38;5;28;01mif\u001b[39;00m show_unicode:\n\u001b[0;32m---> 35\u001b[0m             draw\u001b[38;5;241m.\u001b[39mtext((x1, y1 \u001b[38;5;241m-\u001b[39m \u001b[38;5;241m20\u001b[39m), \u001b[38;5;28mchr\u001b[39m(\u001b[38;5;28;43mint\u001b[39;49m\u001b[43m(\u001b[49m\u001b[43mrow\u001b[49m\u001b[43m[\u001b[49m\u001b[38;5;124;43m\"\u001b[39;49m\u001b[38;5;124;43mUnicode\u001b[39;49m\u001b[38;5;124;43m\"\u001b[39;49m\u001b[43m]\u001b[49m\u001b[43m,\u001b[49m\u001b[43m \u001b[49m\u001b[38;5;241;43m16\u001b[39;49m\u001b[43m)\u001b[49m), font\u001b[38;5;241m=\u001b[39mfont, fill\u001b[38;5;241m=\u001b[39m\u001b[38;5;124m\"\u001b[39m\u001b[38;5;124mblue\u001b[39m\u001b[38;5;124m\"\u001b[39m)\n\u001b[1;32m     37\u001b[0m \u001b[38;5;66;03m# 画像の表示\u001b[39;00m\n\u001b[1;32m     38\u001b[0m plt\u001b[38;5;241m.\u001b[39mfigure(figsize\u001b[38;5;241m=\u001b[39m(\u001b[38;5;241m20\u001b[39m, \u001b[38;5;241m20\u001b[39m))\n",
      "\u001b[0;31mValueError\u001b[0m: invalid literal for int() with base 16: 'U+306A'"
     ]
    }
   ],
   "source": [
    "# サンプル画像のパスを設定\n",
    "data_dir = Path(\"../data/raw/dataset\")\n",
    "sample_page_dir = next(data_dir.iterdir())  # 最初のページディレクトリを使用\n",
    "\n",
    "# 画像とアノテーションファイルのパスを取得\n",
    "images_dir = sample_page_dir / \"images\"\n",
    "sample_image = next(images_dir.glob(\"*.jpg\"))  # 最初の画像を使用\n",
    "coord_file = sample_page_dir / f\"{sample_page_dir.name}_coordinate.csv\"\n",
    "\n",
    "# 元の画像と文字のバウンディングボックスを表示\n",
    "print(\"Original image with character bounding boxes:\")\n",
    "draw_boxes_on_image(str(sample_image), str(coord_file))"
   ]
  },
  {
   "cell_type": "markdown",
   "metadata": {},
   "source": [
    "## 2. 検出された行の可視化"
   ]
  },
  {
   "cell_type": "code",
   "execution_count": null,
   "metadata": {},
   "outputs": [],
   "source": [
    "# 行情報ファイルのパス\n",
    "line_info_file = \"data/processed/line_info.csv\"\n",
    "\n",
    "# 検出された行の領域を表示\n",
    "print(\"Detected text lines:\")\n",
    "draw_detected_lines(str(sample_image), line_info_file)"
   ]
  },
  {
   "cell_type": "markdown",
   "metadata": {},
   "source": [
    "## 3. 切り出された行画像の可視化"
   ]
  },
  {
   "cell_type": "code",
   "execution_count": null,
   "metadata": {},
   "outputs": [],
   "source": [
    "# 切り出された行画像と文字のバウンディングボックスを表示\n",
    "print(\"Extracted line images with character bounding boxes:\")\n",
    "visualize_line_images(line_info_file)"
   ]
  }
 ],
 "metadata": {
  "kernelspec": {
   "display_name": ".venv",
   "language": "python",
   "name": "python3"
  },
  "language_info": {
   "codemirror_mode": {
    "name": "ipython",
    "version": 3
   },
   "file_extension": ".py",
   "mimetype": "text/x-python",
   "name": "python",
   "nbconvert_exporter": "python",
   "pygments_lexer": "ipython3",
   "version": "3.10.16"
  }
 },
 "nbformat": 4,
 "nbformat_minor": 4
}
