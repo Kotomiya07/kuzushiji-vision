 {
 "cells": [
  {
   "cell_type": "markdown",
   "metadata": {},
   "source": [
    "# 列画像と文字列の可視化\n",
    "\n",
    "このノートブックでは、検出された列の画像と対応する文字列を表示します。"
   ]
  },
  {
   "cell_type": "code",
   "execution_count": null,
   "metadata": {},
   "outputs": [],
   "source": [
    "import os\n",
    "import cv2\n",
    "import numpy as np\n",
    "import pandas as pd\n",
    "from pathlib import Path\n",
    "import matplotlib.pyplot as plt\n",
    "from IPython.display import display, HTML"
   ]
  },
  {
   "cell_type": "code",
   "execution_count": null,
   "metadata": {},
   "outputs": [],
   "source": [
    "def unicode_ids_to_string(unicode_ids: list) -> str:\n",
    "    \"\"\"Unicode IDのリストを文字列に変換\n",
    "\n",
    "    Args:\n",
    "        unicode_ids (list): Unicode IDのリスト（文字列表現）\n",
    "\n",
    "    Returns:\n",
    "        str: 変換された文字列\n",
    "    \"\"\"\n",
    "    # 文字列表現からリストに変換\n",
    "    if isinstance(unicode_ids, str):\n",
    "        unicode_ids = eval(unicode_ids)\n",
    "    \n",
    "    # Unicode IDを文字に変換\n",
    "    return ''.join([chr(int(uid, 16)) for uid in unicode_ids])"
   ]
  },
  {
   "cell_type": "code",
   "execution_count": null,
   "metadata": {},
   "outputs": [],
   "source": [
    "def display_column_info(\n",
    "    column_image_path: str,\n",
    "    unicode_ids: list,\n",
    "    figsize: tuple = (5, 10)\n",
    ") -> None:\n",
    "    \"\"\"列画像と文字列を表示\n",
    "\n",
    "    Args:\n",
    "        column_image_path (str): 列画像のパス\n",
    "        unicode_ids (list): Unicode IDのリスト\n",
    "        figsize (tuple, optional): 図のサイズ. Defaults to (5, 10).\n",
    "    \"\"\"\n",
    "    # 画像の読み込みと表示\n",
    "    image = cv2.imread(column_image_path)\n",
    "    if image is None:\n",
    "        print(f\"Error: Could not load image from {column_image_path}\")\n",
    "        return\n",
    "    \n",
    "    image = cv2.cvtColor(image, cv2.COLOR_BGR2RGB)\n",
    "    \n",
    "    plt.figure(figsize=figsize)\n",
    "    plt.imshow(image)\n",
    "    plt.axis('off')\n",
    "    \n",
    "    # 文字列の表示\n",
    "    text = unicode_ids_to_string(unicode_ids)\n",
    "    plt.title(f'Text: {text}', fontsize=12, pad=20)\n",
    "    \n",
    "    plt.show()"
   ]
  },
  {
   "cell_type": "markdown",
   "metadata": {},
   "source": [
    "## 列情報の読み込みと表示"
   ]
  },
  {
   "cell_type": "code",
   "execution_count": null,
   "metadata": {},
   "outputs": [],
   "source": [
    "# 列情報の読み込み\n",
    "column_info_df = pd.read_csv('data/processed/column_info.csv')\n",
    "print(f\"Loaded {len(column_info_df)} columns\")"
   ]
  },
  {
   "cell_type": "code",
   "execution_count": null,
   "metadata": {},
   "outputs": [],
   "source": [
    "# 最初の10列を表示\n",
    "for i in range(min(10, len(column_info_df))):\n",
    "    row = column_info_df.iloc[i]\n",
    "    print(f\"\\nColumn {i+1}:\")\n",
    "    display_column_info(row['column_image'], row['unicode_ids'])"
   ]
  },
  {
   "cell_type": "markdown",
   "metadata": {},
   "source": [
    "## 特定の画像の列を表示"
   ]
  },
  {
   "cell_type": "code",
   "execution_count": null,
   "metadata": {},
   "outputs": [],
   "source": [
    "# 元画像のパスで列を検索\n",
    "def display_columns_for_image(original_image_path: str) -> None:\n",
    "    \"\"\"指定された元画像から抽出された列を表示\n",
    "\n",
    "    Args:\n",
    "        original_image_path (str): 元画像のパス\n",
    "    \"\"\"\n",
    "    # 該当する列を抽出\n",
    "    columns = column_info_df[column_info_df['original_image'] == original_image_path]\n",
    "    \n",
    "    if len(columns) == 0:\n",
    "        print(f\"No columns found for image: {original_image_path}\")\n",
    "        return\n",
    "    \n",
    "    print(f\"Found {len(columns)} columns for image: {original_image_path}\")\n",
    "    \n",
    "    # 各列を表示\n",
    "    for i, (_, row) in enumerate(columns.iterrows(), 1):\n",
    "        print(f\"\\nColumn {i}:\")\n",
    "        display_column_info(row['column_image'], row['unicode_ids'])"
   ]
  },
  {
   "cell_type": "code",
   "execution_count": null,
   "metadata": {},
   "outputs": [],
   "source": [
    "# 利用可能な元画像のリストを表示\n",
    "original_images = column_info_df['original_image'].unique()\n",
    "print(\"Available original images:\")\n",
    "for i, image_path in enumerate(original_images, 1):\n",
    "    print(f\"{i}. {image_path}\")"
   ]
  },
  {
   "cell_type": "code",
   "execution_count": null,
   "metadata": {},
   "outputs": [],
   "source": [
    "# 最初の画像の列を表示\n",
    "if len(original_images) > 0:\n",
    "    display_columns_for_image(original_images[0])"
   ]
  },
  {
   "cell_type": "markdown",
   "metadata": {},
   "source": [
    "## 文字数による列のフィルタリング"
   ]
  },
  {
   "cell_type": "code",
   "execution_count": null,
   "metadata": {},
   "outputs": [],
   "source": [
    "# 文字数を計算\n",
    "column_info_df['char_count'] = column_info_df['unicode_ids'].apply(\n",
    "    lambda x: len(eval(x)) if isinstance(x, str) else len(x)\n",
    ")\n",
    "\n",
    "# 文字数の分布を表示\n",
    "plt.figure(figsize=(10, 5))\n",
    "column_info_df['char_count'].hist(bins=50)\n",
    "plt.title('Distribution of Characters per Column')\n",
    "plt.xlabel('Number of Characters')\n",
    "plt.ylabel('Frequency')\n",
    "plt.show()\n",
    "\n",
    "# 基本統計量を表示\n",
    "print(\"\\nCharacter count statistics:\")\n",
    "print(column_info_df['char_count'].describe())"
   ]
  },
  {
   "cell_type": "code",
   "execution_count": null,
   "metadata": {},
   "outputs": [],
   "source": [
    "# 特定の文字数範囲の列を表示\n",
    "def display_columns_by_char_count(min_chars: int, max_chars: int, n_samples: int = 5) -> None:\n",
    "    \"\"\"指定された文字数範囲の列をランダムに表示\n",
    "\n",
    "    Args:\n",
    "        min_chars (int): 最小文字数\n",
    "        max_chars (int): 最大文字数\n",
    "        n_samples (int, optional): 表示するサンプル数. Defaults to 5.\n",
    "    \"\"\"\n",
    "    # 条件に合う列を抽出\n",
    "    filtered_columns = column_info_df[\n",
    "        (column_info_df['char_count'] >= min_chars) &\n",
    "        (column_info_df['char_count'] <= max_chars)\n",
    "    ]\n",
    "    \n",
    "    if len(filtered_columns) == 0:\n",
    "        print(f\"No columns found with {min_chars}-{max_chars} characters\")\n",
    "        return\n",
    "    \n",
    "    # ランダムにサンプリング\n",
    "    samples = filtered_columns.sample(n=min(n_samples, len(filtered_columns)))\n",
    "    \n",
    "    print(f\"Displaying {len(samples)} random samples with {min_chars}-{max_chars} characters\")\n",
    "    \n",
    "    # 各サンプルを表示\n",
    "    for i, (_, row) in enumerate(samples.iterrows(), 1):\n",
    "        print(f\"\\nSample {i} ({row['char_count']} characters):\")\n",
    "        display_column_info(row['column_image'], row['unicode_ids'])"
   ]
  },
  {
   "cell_type": "code",
   "execution_count": null,
   "metadata": {},
   "outputs": [],
   "source": [
    "# 10-20文字の列を5つ表示\n",
    "display_columns_by_char_count(10, 20, 5)"
   ]
  }
 ],
 "metadata": {
  "kernelspec": {
   "display_name": "Python 3",
   "language": "python",
   "name": "python3"
  },
  "language_info": {
   "codemirror_mode": {
    "name": "ipython",
    "version": 3
   },
   "file_extension": ".py",
   "mimetype": "text/x-python",
   "name": "python",
   "nbconvert_exporter": "python",
   "pygments_lexer": "ipython3",
   "version": "3.10.16"
  }
 },
 "nbformat": 4,
 "nbformat_minor": 4
}