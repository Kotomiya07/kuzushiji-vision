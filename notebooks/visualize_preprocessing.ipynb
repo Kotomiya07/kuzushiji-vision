{
 "cells": [
  {
   "cell_type": "markdown",
   "metadata": {},
   "source": [
    "# くずし字データの前処理実験\n",
    "\n",
    "このノートブックでは、くずし字データの前処理（列検出）の結果を可視化して確認します。"
   ]
  },
  {
   "cell_type": "code",
   "execution_count": 1,
   "metadata": {},
   "outputs": [],
   "source": [
    "import cv2\n",
    "import yaml\n",
    "import numpy as np\n",
    "import pandas as pd\n",
    "from pathlib import Path\n",
    "import matplotlib.pyplot as plt\n",
    "\n",
    "import sys\n",
    "\n",
    "sys.path.append(\"../\")\n",
    "\n",
    "from scripts.data_preprocessing import CharacterBox, detect_text_columns"
   ]
  },
  {
   "cell_type": "code",
   "execution_count": 2,
   "metadata": {},
   "outputs": [],
   "source": [
    "def visualize_columns(image: np.ndarray, columns: list[list[CharacterBox]], figsize: tuple[int, int] = (15, 15)) -> None:\n",
    "    \"\"\"列検出結果を可視化\n",
    "\n",
    "    Args:\n",
    "        image (np.ndarray): 入力画像\n",
    "        columns (list[list[CharacterBox]]): 検出された列のリスト\n",
    "        figsize (tuple[int, int], optional): 図のサイズ. Defaults to (15, 15).\n",
    "    \"\"\"\n",
    "    plt.figure(figsize=figsize)\n",
    "    plt.imshow(cv2.cvtColor(image, cv2.COLOR_BGR2RGB))\n",
    "\n",
    "    # 列ごとに異なる色を使用\n",
    "    colors = plt.cm.rainbow(np.linspace(0, 1, len(columns)))\n",
    "\n",
    "    for i, column in enumerate(columns):\n",
    "        # 列の領域を計算\n",
    "        x1 = min(char.x1 for char in column)\n",
    "        y1 = min(char.y1 for char in column)\n",
    "        x2 = max(char.x2 for char in column)\n",
    "        y2 = max(char.y2 for char in column)\n",
    "\n",
    "        # 列の領域を描画\n",
    "        plt.plot([x1, x2, x2, x1, x1], [y1, y1, y2, y2, y1], color=colors[i], linewidth=2, label=f\"Column {i + 1}\")\n",
    "\n",
    "        # 文字のバウンディングボックスを描画\n",
    "        for char in column:\n",
    "            plt.plot(\n",
    "                [char.x1, char.x2, char.x2, char.x1, char.x1],\n",
    "                [char.y1, char.y1, char.y2, char.y2, char.y1],\n",
    "                color=colors[i],\n",
    "                linewidth=1,\n",
    "                alpha=0.5,\n",
    "            )\n",
    "\n",
    "    plt.legend(bbox_to_anchor=(1.05, 1), loc=\"upper left\")\n",
    "    plt.axis(\"off\")\n",
    "    plt.tight_layout()\n",
    "    plt.show()"
   ]
  },
  {
   "cell_type": "markdown",
   "metadata": {},
   "source": [
    "## パラメータの設定\n",
    "\n",
    "列検出のパラメータを設定します。"
   ]
  },
  {
   "cell_type": "code",
   "execution_count": 9,
   "metadata": {},
   "outputs": [],
   "source": [
    "# DBSCANのパラメータ\n",
    "params = {\n",
    "    \"eps_ratio\": 0.2,  # 文字の幅の中央値に対するepsの割合\n",
    "    \"min_samples\": 1,  # クラスタを形成するための最小サンプル数\n",
    "}"
   ]
  },
  {
   "cell_type": "markdown",
   "metadata": {},
   "source": [
    "## データの読み込みと前処理\n",
    "\n",
    "画像とアノテーションを読み込み、列検出を実行します。"
   ]
  },
  {
   "cell_type": "code",
   "execution_count": null,
   "metadata": {},
   "outputs": [],
   "source": [
    "# 設定の読み込み\n",
    "with open(\"../config/preprocessing.yaml\", \"r\") as f:\n",
    "    config = yaml.safe_load(f)\n",
    "\n",
    "# データディレクトリの設定\n",
    "data_dir = Path(config[\"data_dir\"])\n",
    "raw_dir = \"..\" / data_dir / \"raw\" / \"dataset\"\n",
    "\n",
    "# サンプル画像の処理\n",
    "page_dirs = list(raw_dir.iterdir())\n",
    "print(len(page_dirs))\n",
    "for page_dir in page_dirs[21:22]:  # 最初の3ページのみ処理\n",
    "    if not page_dir.is_dir():\n",
    "        continue\n",
    "\n",
    "    # 画像ディレクトリとcoordinate.csvの確認\n",
    "    images_dir = page_dir / \"images\"\n",
    "    coord_file = page_dir / f\"{page_dir.name}_coordinate.csv\"\n",
    "\n",
    "    if not images_dir.exists() or not coord_file.exists():\n",
    "        continue\n",
    "\n",
    "    # 各画像の処理\n",
    "    count = 0\n",
    "    for image_path in images_dir.glob(\"*.jpg\"):\n",
    "        print(f\"\\nProcessing {image_path.name}\")\n",
    "\n",
    "        # 画像の読み込み\n",
    "        image = cv2.imread(str(image_path))\n",
    "\n",
    "        # 文字座標の読み込み\n",
    "        df = pd.read_csv(coord_file)\n",
    "\n",
    "        # 画像名が一致する行のみ抽出\n",
    "        df = df[df[\"Image\"] == image_path.name.split(\"/\")[-1].split(\".\")[0]]\n",
    "\n",
    "        # 文字のバウンディングボックスを作成\n",
    "        char_boxes = []\n",
    "        for _, row in df.iterrows():\n",
    "            char_boxes.append(\n",
    "                CharacterBox(\n",
    "                    x1=row[\"X\"],\n",
    "                    y1=row[\"Y\"],\n",
    "                    x2=row[\"X\"] + row[\"Width\"],\n",
    "                    y2=row[\"Y\"] + row[\"Height\"],\n",
    "                    unicode_id=row[\"Unicode\"],\n",
    "                )\n",
    "            )\n",
    "\n",
    "        # 列の検出\n",
    "        text_columns = detect_text_columns(char_boxes, eps_ratio=params[\"eps_ratio\"], min_samples=params[\"min_samples\"])\n",
    "\n",
    "        print(f\"Detected {len(text_columns)} columns\")\n",
    "\n",
    "        # 結果の可視化\n",
    "        visualize_columns(image, text_columns)\n",
    "\n",
    "        count += 1\n",
    "        if count >= 3:\n",
    "            break"
   ]
  },
  {
   "cell_type": "markdown",
   "metadata": {},
   "source": [
    "## パラメータの調整実験\n",
    "\n",
    "異なるパラメータで結果を比較します。"
   ]
  },
  {
   "cell_type": "code",
   "execution_count": null,
   "metadata": {},
   "outputs": [],
   "source": [
    "# サンプル画像を1枚選択\n",
    "sample_image_path = list(page_dirs[0].glob(\"images/*.jpg\"))[0]\n",
    "sample_coord_file = page_dirs[0] / f\"{page_dirs[0].name}_coordinate.csv\"\n",
    "\n",
    "# 画像の読み込み\n",
    "image = cv2.imread(str(sample_image_path))\n",
    "\n",
    "# 文字座標の読み込み\n",
    "df = pd.read_csv(sample_coord_file)\n",
    "char_boxes = []\n",
    "for _, row in df.iterrows():\n",
    "    char_boxes.append(\n",
    "        CharacterBox(\n",
    "            x1=row[\"X\"], y1=row[\"Y\"], x2=row[\"X\"] + row[\"Width\"], y2=row[\"Y\"] + row[\"Height\"], unicode_id=row[\"Unicode\"]\n",
    "        )\n",
    "    )\n",
    "\n",
    "# 異なるパラメータで実験\n",
    "eps_ratios = [0.05, 0.1, 0.2]\n",
    "min_samples_list = [1, 2, 3]\n",
    "\n",
    "for eps_ratio in eps_ratios:\n",
    "    for min_samples in min_samples_list:\n",
    "        print(f\"\\neps_ratio: {eps_ratio}, min_samples: {min_samples}\")\n",
    "\n",
    "        # 列の検出\n",
    "        text_columns = detect_text_columns(char_boxes, eps_ratio=eps_ratio, min_samples=min_samples)\n",
    "\n",
    "        print(f\"Detected {len(text_columns)} columns\")\n",
    "\n",
    "        # 結果の可視化\n",
    "        visualize_columns(image, text_columns)"
   ]
  }
 ],
 "metadata": {
  "kernelspec": {
   "display_name": "Python 3 (ipykernel)",
   "language": "python",
   "name": "python3"
  },
  "language_info": {
   "codemirror_mode": {
    "name": "ipython",
    "version": 3
   },
   "file_extension": ".py",
   "mimetype": "text/x-python",
   "name": "python",
   "nbconvert_exporter": "python",
   "pygments_lexer": "ipython3",
   "version": "3.10.16"
  }
 },
 "nbformat": 4,
 "nbformat_minor": 4
}
